{
 "cells": [
  {
   "cell_type": "code",
   "execution_count": 1,
   "metadata": {},
   "outputs": [],
   "source": [
    "data=[115.3,195.5, 120.5, 110.2, 90.4, 105.6, 110.9, 116.3, 122.3, 125.4]"
   ]
  },
  {
   "cell_type": "code",
   "execution_count": 2,
   "metadata": {},
   "outputs": [],
   "source": [
    "def total (listOfNumbers):\n",
    "    numSum=0\n",
    "    for num in listOfNumbers:\n",
    "        numSum+=num\n",
    "    return numSum"
   ]
  },
  {
   "cell_type": "code",
   "execution_count": 3,
   "metadata": {},
   "outputs": [],
   "source": [
    "def avg (listOfNumbers):\n",
    "    return total(listOfNumbers)/len(listOfNumbers)"
   ]
  },
  {
   "cell_type": "code",
   "execution_count": 4,
   "metadata": {},
   "outputs": [],
   "source": [
    "def devi (listOfNumbers):\n",
    "    size=len(listOfNumbers)\n",
    "    deviation=0\n",
    "    for num in listOfNumbers:\n",
    "        deviation+=(num-avg(listOfNumbers))**2\n",
    "    return pow((deviation/size),1/2)"
   ]
  },
  {
   "cell_type": "code",
   "execution_count": 5,
   "metadata": {},
   "outputs": [],
   "source": [
    "def stand (listOfNumbers):\n",
    "    for num in listOfNumbers:\n",
    "        standardization=(num-avg(listOfNumbers))/devi(listOfNumbers)\n",
    "        print(standardization)"
   ]
  },
  {
   "cell_type": "code",
   "execution_count": 6,
   "metadata": {},
   "outputs": [
    {
     "name": "stdout",
     "output_type": "stream",
     "text": [
      "-0.22422720478983732\n",
      "2.803217546749711\n",
      "-0.02793402887954231\n",
      "-0.4167455119326263\n",
      "-1.164169527898749\n",
      "-0.5903894752378875\n",
      "-0.3903214305600865\n",
      "-0.18647851711478058\n",
      "0.040013608935559664\n",
      "0.15703454072823578\n"
     ]
    }
   ],
   "source": [
    "stand(data)"
   ]
  },
  {
   "cell_type": "code",
   "execution_count": 7,
   "metadata": {},
   "outputs": [],
   "source": [
    "def normal (listOfNumbers):\n",
    "    \n",
    "    for num in listOfNumbers:\n",
    "        normalization=(num-min(listOfNumbers))/(max(listOfNumbers)-min(listOfNumbers))\n",
    "        print(normalization)"
   ]
  },
  {
   "cell_type": "code",
   "execution_count": 8,
   "metadata": {},
   "outputs": [
    {
     "name": "stdout",
     "output_type": "stream",
     "text": [
      "0.23691722169362506\n",
      "1.0\n",
      "0.2863939105613701\n",
      "0.18839200761179828\n",
      "0.0\n",
      "0.14462416745956222\n",
      "0.1950523311132255\n",
      "0.24643196955280677\n",
      "0.3035204567078972\n",
      "0.3330161750713606\n"
     ]
    }
   ],
   "source": [
    "normal(data)"
   ]
  },
  {
   "cell_type": "code",
   "execution_count": null,
   "metadata": {},
   "outputs": [],
   "source": []
  }
 ],
 "metadata": {
  "kernelspec": {
   "display_name": "Python 3",
   "language": "python",
   "name": "python3"
  },
  "language_info": {
   "codemirror_mode": {
    "name": "ipython",
    "version": 3
   },
   "file_extension": ".py",
   "mimetype": "text/x-python",
   "name": "python",
   "nbconvert_exporter": "python",
   "pygments_lexer": "ipython3",
   "version": "3.8.5"
  }
 },
 "nbformat": 4,
 "nbformat_minor": 4
}
