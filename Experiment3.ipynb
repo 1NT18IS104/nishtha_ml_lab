{
 "cells": [
  {
   "cell_type": "markdown",
   "metadata": {},
   "source": [
    "# K-means clustering"
   ]
  },
  {
   "cell_type": "code",
   "execution_count": 63,
   "metadata": {},
   "outputs": [],
   "source": [
    "import math\n",
    "cluster1= []\n",
    "cluster2= []\n",
    "cluster3= []\n",
    "x1,y1= 6.2,3.2\n",
    "x2,y2= 6.6,3.7\n",
    "x3,y3= 6.5,3.0\n",
    "points= [[5.9,3.2],\n",
    "         [4.6,2.9],\n",
    "         [6.2,2.8],\n",
    "         [4.7,3.2],\n",
    "         [5.5,4.2],\n",
    "         [5.0,3.0],\n",
    "         [4.9,3.1],\n",
    "         [6.7,3.1],\n",
    "         [5.1,3.8],\n",
    "         [6.0,3.0]\n",
    "        ]"
   ]
  },
  {
   "cell_type": "code",
   "execution_count": 64,
   "metadata": {},
   "outputs": [],
   "source": [
    "def euclidean_distance(a,b):\n",
    "    distance_one= math.sqrt((a-x1)**2 + (b-y1)**2)\n",
    "    distance_two= math.sqrt((a-x2)**2 + (b-y2)**2)\n",
    "    distance_three= math.sqrt((a-x3)**2 + (b-y3)**2)\n",
    "    mind= min(distance_one,distance_two,distance_three)\n",
    "    if(mind==distance_one):\n",
    "        cluster1.append([a,b])\n",
    "    elif(mind==distance_two):\n",
    "        cluster2.append([a,b])\n",
    "    else:\n",
    "        cluster3.append([a,b])"
   ]
  },
  {
   "cell_type": "markdown",
   "metadata": {},
   "source": [
    "### First iteration "
   ]
  },
  {
   "cell_type": "code",
   "execution_count": 74,
   "metadata": {},
   "outputs": [
    {
     "name": "stdout",
     "output_type": "stream",
     "text": [
      "Cluster1:\n",
      "[[5.9, 3.2], [4.6, 2.9], [4.7, 3.2], [5.0, 3.0], [4.9, 3.1], [5.1, 3.8], [6.0, 3.0], [5.9, 3.2], [4.6, 2.9], [4.7, 3.2], [5.0, 3.0], [4.9, 3.1], [5.1, 3.8], [6.0, 3.0], [5.9, 3.2], [4.6, 2.9], [4.7, 3.2], [5.0, 3.0], [4.9, 3.1], [5.1, 3.8], [6.0, 3.0], [5.9, 3.2], [4.6, 2.9], [4.7, 3.2], [5.0, 3.0], [4.9, 3.1], [5.1, 3.8], [6.0, 3.0]]\n",
      "Cluster2:\n",
      "[[5.5, 4.2], [5.5, 4.2], [5.5, 4.2], [5.5, 4.2]]\n",
      "Cluster3:\n",
      "[[6.2, 2.8], [6.7, 3.1], [6.2, 2.8], [6.7, 3.1], [6.2, 2.8], [6.7, 3.1], [6.2, 2.8], [6.7, 3.1]]\n"
     ]
    }
   ],
   "source": [
    "for i,j in points:\n",
    "    euclidean_distance(i,j)\n",
    "print(\"Cluster1:\")\n",
    "print(cluster1)\n",
    "print(\"Cluster2:\")\n",
    "print(cluster2)\n",
    "print(\"Cluster3:\")\n",
    "print(cluster3)"
   ]
  },
  {
   "cell_type": "markdown",
   "metadata": {},
   "source": [
    "### Second iteration for Cluster 1"
   ]
  },
  {
   "cell_type": "code",
   "execution_count": 75,
   "metadata": {},
   "outputs": [
    {
     "name": "stdout",
     "output_type": "stream",
     "text": [
      "New centroid for cluster 1: 5.17 3.17\n"
     ]
    }
   ],
   "source": [
    "sum_i=0\n",
    "sum_j=0\n",
    "for i,j in cluster1:\n",
    "    sum_i+=i\n",
    "    sum_j+=j\n",
    "nx1= round(sum_i/len(cluster1),2)\n",
    "ny1= round(sum_j/len(cluster1),2)\n",
    "print(\"New centroid for cluster 1:\",nx1,ny1)"
   ]
  },
  {
   "cell_type": "code",
   "execution_count": 67,
   "metadata": {},
   "outputs": [],
   "source": [
    "cluster4= []\n",
    "def new_euclidean_distance(a,b,cluster,nx,ny,x,y):\n",
    "    new_distance_one= math.sqrt((a-nx)**2 + (b-ny)**2)\n",
    "    if(new_distance_one<math.sqrt((a-x)**2 + (b-y)**2)):\n",
    "        cluster.append([a,b])\n",
    "#         cluster1.remove([a,b])\n",
    "    else:\n",
    "        pass"
   ]
  },
  {
   "cell_type": "code",
   "execution_count": 68,
   "metadata": {},
   "outputs": [
    {
     "name": "stdout",
     "output_type": "stream",
     "text": [
      "[[5.9, 3.2], [4.6, 2.9], [4.7, 3.2], [5.0, 3.0], [4.9, 3.1], [5.1, 3.8], [6.0, 3.0]]\n",
      "Cluster 1: [[5.9, 3.2], [4.6, 2.9], [4.7, 3.2], [5.0, 3.0], [4.9, 3.1], [5.1, 3.8], [6.0, 3.0]]\n",
      "Cluster 4: [[4.6, 2.9], [4.7, 3.2], [5.0, 3.0], [4.9, 3.1], [5.1, 3.8]]\n"
     ]
    }
   ],
   "source": [
    "print(cluster1)\n",
    "for i,j in cluster1:\n",
    "    new_euclidean_distance(i,j,cluster4,nx1,ny1,x1,y1)\n",
    "print(\"Cluster 1:\",cluster1)\n",
    "print(\"Cluster 4:\",cluster4)"
   ]
  },
  {
   "cell_type": "markdown",
   "metadata": {},
   "source": [
    "### Second iteration for Cluster 3"
   ]
  },
  {
   "cell_type": "code",
   "execution_count": 76,
   "metadata": {},
   "outputs": [
    {
     "name": "stdout",
     "output_type": "stream",
     "text": [
      "6.45 2.95\n"
     ]
    }
   ],
   "source": [
    "sum_i=0\n",
    "sum_j=0\n",
    "for i,j in cluster3:\n",
    "    sum_i+=i\n",
    "    sum_j+=j\n",
    "nx3= round(sum_i/len(cluster3),2)\n",
    "ny3= round(sum_j/len(cluster3),2)\n",
    "print(nx3,ny3)"
   ]
  },
  {
   "cell_type": "code",
   "execution_count": 77,
   "metadata": {},
   "outputs": [
    {
     "name": "stdout",
     "output_type": "stream",
     "text": [
      "[[6.2, 2.8], [6.7, 3.1], [6.2, 2.8], [6.7, 3.1], [6.2, 2.8], [6.7, 3.1], [6.2, 2.8], [6.7, 3.1]]\n",
      "Cluster 3: [[6.2, 2.8], [6.7, 3.1], [6.2, 2.8], [6.7, 3.1], [6.2, 2.8], [6.7, 3.1], [6.2, 2.8], [6.7, 3.1]]\n",
      "Cluster 5: [[6.2, 2.8], [6.2, 2.8], [6.2, 2.8], [6.2, 2.8]]\n"
     ]
    }
   ],
   "source": [
    "cluster5= [] \n",
    "print(cluster3)\n",
    "for i,j in cluster3:\n",
    "    new_euclidean_distance(i,j,cluster5,nx3,ny3,x3,y3)\n",
    "print(\"Cluster 3:\",cluster3)\n",
    "print(\"Cluster 5:\",cluster5)"
   ]
  }
 ],
 "metadata": {
  "kernelspec": {
   "display_name": "Python 3",
   "language": "python",
   "name": "python3"
  },
  "language_info": {
   "codemirror_mode": {
    "name": "ipython",
    "version": 3
   },
   "file_extension": ".py",
   "mimetype": "text/x-python",
   "name": "python",
   "nbconvert_exporter": "python",
   "pygments_lexer": "ipython3",
   "version": "3.8.5"
  }
 },
 "nbformat": 4,
 "nbformat_minor": 4
}
