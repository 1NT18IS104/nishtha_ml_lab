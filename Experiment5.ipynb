{
 "cells": [
  {
   "cell_type": "code",
   "execution_count": 1,
   "metadata": {},
   "outputs": [],
   "source": [
    "import numpy as np\n",
    "import matplotlib.pyplot as plt\n",
    "import pandas as pd"
   ]
  },
  {
   "cell_type": "code",
   "execution_count": 2,
   "metadata": {},
   "outputs": [
    {
     "name": "stdout",
     "output_type": "stream",
     "text": [
      "(97, 2)\n",
      "          x         y\n",
      "0    6.1101  17.59200\n",
      "1    5.5277   9.13020\n",
      "2    8.5186  13.66200\n",
      "3    7.0032  11.85400\n",
      "4    5.8598   6.82330\n",
      "..      ...       ...\n",
      "92   5.8707   7.20290\n",
      "93   5.3054   1.98690\n",
      "94   8.2934   0.14454\n",
      "95  13.3940   9.05510\n",
      "96   5.4369   0.61705\n",
      "\n",
      "[97 rows x 2 columns]\n"
     ]
    }
   ],
   "source": [
    "dataset = pd.read_csv('/home/root1/Downloads/Food-Truck-LineReg.csv',header=None)\n",
    "dataset.columns=['x','y']\n",
    "print(dataset.shape)\n",
    "print(dataset)"
   ]
  },
  {
   "cell_type": "code",
   "execution_count": 3,
   "metadata": {},
   "outputs": [],
   "source": [
    "X = dataset['x']\n",
    "y = dataset['y']\n",
    "n=dataset['x'].count()"
   ]
  },
  {
   "cell_type": "code",
   "execution_count": 4,
   "metadata": {},
   "outputs": [
    {
     "data": {
      "image/png": "[encoded data removed]",
      "text/plain": [
       "<Figure size 432x288 with 1 Axes>"
      ]
     },
     "metadata": {
      "needs_background": "light"
     },
     "output_type": "display_data"
    }
   ],
   "source": [
    "plt.scatter(X.transpose(),y.transpose(),40,color=\"red\",marker=\"x\")\n",
    "plt.xlabel(\"population in 10000's\")\n",
    "plt.ylabel(\"profit in 10000 $\")\n",
    "plt.title(\"Figure 1: Scatter plot of training data\")\n",
    "plt.show()"
   ]
  },
  {
   "cell_type": "code",
   "execution_count": 5,
   "metadata": {},
   "outputs": [],
   "source": [
    "mean_x=np.mean(X)\n",
    "mean_y=np.mean(y)\n",
    "sum_x2=sum(i*i for i in X)\n",
    "sum_y2=sum(i*i for i in y)\n",
    "sum_xy=sum(x * y for x, y in zip(X, y))"
   ]
  },
  {
   "cell_type": "code",
   "execution_count": 6,
   "metadata": {},
   "outputs": [
    {
     "name": "stdout",
     "output_type": "stream",
     "text": [
      "slope: 1.1930336441895992\n",
      "intercept: -3.895780878311906\n"
     ]
    }
   ],
   "source": [
    "#y=mx+c\n",
    "m=((n*sum_xy) - (sum(X)*sum(y)))/ ((n*sum_x2) - (sum(X)**2))\n",
    "c=((sum(y) * sum_x2) - (sum(X)*sum_xy))/ ((n*sum_x2) - (sum(X)**2))\n",
    "print(\"slope: {}\\nintercept: {}\".format(m,c))"
   ]
  },
  {
   "cell_type": "code",
   "execution_count": 9,
   "metadata": {},
   "outputs": [],
   "source": [
    "y_pred = list()\n",
    "\n",
    "for i in range(0,n):\n",
    "    y_pred.append((m * X[i])+c)\n",
    "\n",
    "dataset['y_pred'] = y_pred"
   ]
  },
  {
   "cell_type": "code",
   "execution_count": null,
   "metadata": {},
   "outputs": [],
   "source": [
    "dataset.corr()"
   ]
  },
  {
   "cell_type": "code",
   "execution_count": 11,
   "metadata": {},
   "outputs": [],
   "source": [
    "SST=0\n",
    "SSE=0\n",
    "SSR=0\n",
    "MSE=0\n",
    "for i in range(n):\n",
    "    SST+= ((y[i]-mean_y)**2)\n",
    "    SSE+= ((y[i] - y_pred[i])**2)\n",
    "    SSR+= ((y_pred[i]-mean_y)**2)\n",
    "MSE = SST/n\n",
    "cost = pow(MSE,(1/2))\n",
    "R2 = SSR/SST"
   ]
  },
  {
   "cell_type": "code",
   "execution_count": 12,
   "metadata": {},
   "outputs": [
    {
     "name": "stdout",
     "output_type": "stream",
     "text": [
      "SST: 2914.8470516572247\n",
      "SSE: 868.532446939185\n",
      "SSR: 2046.3146047180592\n",
      "MSE: 30.049969604713656\n",
      "Cost: 5.48178525707763\n",
      "R2: 0.7020315537841463\n"
     ]
    }
   ],
   "source": [
    "print(\"SST: {}\\nSSE: {}\\nSSR: {}\\nMSE: {}\\nCost: {}\\nR2: {}\".format(SST,SSE,SSR,MSE,cost,R2))"
   ]
  },
  {
   "cell_type": "code",
   "execution_count": null,
   "metadata": {},
   "outputs": [],
   "source": []
  }
 ],
 "metadata": {
  "kernelspec": {
   "display_name": "Python 3",
   "language": "python",
   "name": "python3"
  },
  "language_info": {
   "codemirror_mode": {
    "name": "ipython",
    "version": 3
   },
   "file_extension": ".py",
   "mimetype": "text/x-python",
   "name": "python",
   "nbconvert_exporter": "python",
   "pygments_lexer": "ipython3",
   "version": "3.8.5"
  }
 },
 "nbformat": 4,
 "nbformat_minor": 4
}
